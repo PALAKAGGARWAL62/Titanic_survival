{
 "cells": [
  {
   "cell_type": "code",
   "execution_count": 1,
   "metadata": {
    "collapsed": true
   },
   "outputs": [],
   "source": [
    "# to fetch data as data frame and perform operations over it\n",
    "import pandas as pd"
   ]
  },
  {
   "cell_type": "code",
   "execution_count": 2,
   "metadata": {
    "collapsed": true
   },
   "outputs": [],
   "source": [
    "# fetching data from csv in the form of data frame\n",
    "df = pd.read_csv(\"titanic_prepared_data.csv\")"
   ]
  },
  {
   "cell_type": "code",
   "execution_count": 3,
   "metadata": {},
   "outputs": [
    {
     "data": {
      "text/html": [
       "<div>\n",
       "<style>\n",
       "    .dataframe thead tr:only-child th {\n",
       "        text-align: right;\n",
       "    }\n",
       "\n",
       "    .dataframe thead th {\n",
       "        text-align: left;\n",
       "    }\n",
       "\n",
       "    .dataframe tbody tr th {\n",
       "        vertical-align: top;\n",
       "    }\n",
       "</style>\n",
       "<table border=\"1\" class=\"dataframe\">\n",
       "  <thead>\n",
       "    <tr style=\"text-align: right;\">\n",
       "      <th></th>\n",
       "      <th>Survived</th>\n",
       "      <th>Sex</th>\n",
       "      <th>Age</th>\n",
       "      <th>Fare</th>\n",
       "      <th>Pclass_1</th>\n",
       "      <th>Pclass_2</th>\n",
       "      <th>Pclass_3</th>\n",
       "      <th>Embarked_0</th>\n",
       "      <th>Embarked_1</th>\n",
       "      <th>Embarked_2</th>\n",
       "      <th>FamilySize</th>\n",
       "    </tr>\n",
       "  </thead>\n",
       "  <tbody>\n",
       "    <tr>\n",
       "      <th>0</th>\n",
       "      <td>0</td>\n",
       "      <td>1</td>\n",
       "      <td>22.0</td>\n",
       "      <td>7.2500</td>\n",
       "      <td>0</td>\n",
       "      <td>0</td>\n",
       "      <td>1</td>\n",
       "      <td>0</td>\n",
       "      <td>0</td>\n",
       "      <td>1</td>\n",
       "      <td>2</td>\n",
       "    </tr>\n",
       "    <tr>\n",
       "      <th>1</th>\n",
       "      <td>1</td>\n",
       "      <td>0</td>\n",
       "      <td>38.0</td>\n",
       "      <td>71.2833</td>\n",
       "      <td>1</td>\n",
       "      <td>0</td>\n",
       "      <td>0</td>\n",
       "      <td>1</td>\n",
       "      <td>0</td>\n",
       "      <td>0</td>\n",
       "      <td>2</td>\n",
       "    </tr>\n",
       "    <tr>\n",
       "      <th>2</th>\n",
       "      <td>1</td>\n",
       "      <td>0</td>\n",
       "      <td>26.0</td>\n",
       "      <td>7.9250</td>\n",
       "      <td>0</td>\n",
       "      <td>0</td>\n",
       "      <td>1</td>\n",
       "      <td>0</td>\n",
       "      <td>0</td>\n",
       "      <td>1</td>\n",
       "      <td>1</td>\n",
       "    </tr>\n",
       "    <tr>\n",
       "      <th>3</th>\n",
       "      <td>1</td>\n",
       "      <td>0</td>\n",
       "      <td>35.0</td>\n",
       "      <td>53.1000</td>\n",
       "      <td>1</td>\n",
       "      <td>0</td>\n",
       "      <td>0</td>\n",
       "      <td>0</td>\n",
       "      <td>0</td>\n",
       "      <td>1</td>\n",
       "      <td>2</td>\n",
       "    </tr>\n",
       "    <tr>\n",
       "      <th>4</th>\n",
       "      <td>0</td>\n",
       "      <td>1</td>\n",
       "      <td>35.0</td>\n",
       "      <td>8.0500</td>\n",
       "      <td>0</td>\n",
       "      <td>0</td>\n",
       "      <td>1</td>\n",
       "      <td>0</td>\n",
       "      <td>0</td>\n",
       "      <td>1</td>\n",
       "      <td>1</td>\n",
       "    </tr>\n",
       "  </tbody>\n",
       "</table>\n",
       "</div>"
      ],
      "text/plain": [
       "   Survived  Sex   Age     Fare  Pclass_1  Pclass_2  Pclass_3  Embarked_0  \\\n",
       "0         0    1  22.0   7.2500         0         0         1           0   \n",
       "1         1    0  38.0  71.2833         1         0         0           1   \n",
       "2         1    0  26.0   7.9250         0         0         1           0   \n",
       "3         1    0  35.0  53.1000         1         0         0           0   \n",
       "4         0    1  35.0   8.0500         0         0         1           0   \n",
       "\n",
       "   Embarked_1  Embarked_2  FamilySize  \n",
       "0           0           1           2  \n",
       "1           0           0           2  \n",
       "2           0           1           1  \n",
       "3           0           1           2  \n",
       "4           0           1           1  "
      ]
     },
     "execution_count": 3,
     "metadata": {},
     "output_type": "execute_result"
    }
   ],
   "source": [
    "# displaying top 5 lines of data set to know the data\n",
    "df.head()"
   ]
  },
  {
   "cell_type": "code",
   "execution_count": 4,
   "metadata": {
    "collapsed": true
   },
   "outputs": [],
   "source": [
    "# separating out fetures from data set\n",
    "x = df.iloc[:,1:].values"
   ]
  },
  {
   "cell_type": "code",
   "execution_count": 5,
   "metadata": {
    "collapsed": true
   },
   "outputs": [],
   "source": [
    "# separating out labels from data set \n",
    "# y is raveled so as to convert list of lists to an single list\n",
    "y = df.iloc[:,0:1].values.ravel()"
   ]
  },
  {
   "cell_type": "code",
   "execution_count": 6,
   "metadata": {
    "scrolled": true
   },
   "outputs": [
    {
     "data": {
      "text/plain": [
       "array([[  1.        ,  22.        ,   7.25      , ...,   0.        ,\n",
       "          1.        ,   2.        ],\n",
       "       [  0.        ,  38.        ,  71.2833    , ...,   0.        ,\n",
       "          0.        ,   2.        ],\n",
       "       [  0.        ,  26.        ,   7.925     , ...,   0.        ,\n",
       "          1.        ,   1.        ],\n",
       "       ..., \n",
       "       [  0.        ,  29.69911765,  23.45      , ...,   0.        ,\n",
       "          1.        ,   4.        ],\n",
       "       [  1.        ,  26.        ,  30.        , ...,   0.        ,\n",
       "          0.        ,   1.        ],\n",
       "       [  1.        ,  32.        ,   7.75      , ...,   1.        ,\n",
       "          0.        ,   1.        ]])"
      ]
     },
     "execution_count": 6,
     "metadata": {},
     "output_type": "execute_result"
    }
   ],
   "source": [
    "# displaying features ie data other than survived\n",
    "x"
   ]
  },
  {
   "cell_type": "code",
   "execution_count": 7,
   "metadata": {},
   "outputs": [
    {
     "data": {
      "text/plain": [
       "array([0, 1, 1, 1, 0, 0, 0, 0, 1, 1, 1, 1, 0, 0, 0, 1, 0, 1, 0, 1, 0, 1, 1,\n",
       "       1, 0, 1, 0, 0, 1, 0, 0, 1, 1, 0, 0, 0, 1, 0, 0, 1, 0, 0, 0, 1, 1, 0,\n",
       "       0, 1, 0, 0, 0, 0, 1, 1, 0, 1, 1, 0, 1, 0, 0, 1, 0, 0, 0, 1, 1, 0, 1,\n",
       "       0, 0, 0, 0, 0, 1, 0, 0, 0, 1, 1, 0, 1, 1, 0, 1, 1, 0, 0, 1, 0, 0, 0,\n",
       "       0, 0, 0, 0, 0, 1, 1, 0, 0, 0, 0, 0, 0, 0, 1, 1, 0, 1, 0, 0, 0, 0, 0,\n",
       "       0, 0, 0, 0, 0, 0, 0, 0, 1, 0, 1, 0, 1, 1, 0, 0, 0, 0, 1, 0, 0, 1, 0,\n",
       "       0, 0, 0, 1, 1, 0, 0, 0, 1, 0, 0, 0, 0, 1, 0, 0, 0, 0, 1, 0, 0, 0, 0,\n",
       "       1, 0, 0, 0, 1, 1, 0, 0, 0, 0, 0, 1, 0, 0, 0, 0, 0, 0, 0, 0, 0, 0, 1,\n",
       "       1, 0, 1, 1, 0, 0, 1, 0, 1, 1, 1, 1, 0, 0, 1, 0, 0, 0, 0, 0, 1, 0, 0,\n",
       "       1, 1, 1, 0, 1, 0, 0, 0, 1, 1, 0, 1, 0, 1, 0, 0, 0, 1, 0, 1, 0, 0, 0,\n",
       "       1, 0, 0, 1, 0, 0, 0, 1, 0, 0, 0, 1, 0, 0, 0, 0, 0, 1, 1, 0, 0, 0, 0,\n",
       "       0, 0, 1, 1, 1, 1, 1, 0, 1, 0, 0, 0, 0, 0, 1, 1, 1, 0, 1, 1, 0, 1, 1,\n",
       "       0, 0, 0, 1, 0, 0, 0, 1, 0, 0, 1, 0, 1, 1, 1, 1, 0, 0, 0, 0, 0, 0, 1,\n",
       "       1, 1, 1, 0, 1, 0, 1, 1, 1, 0, 1, 1, 1, 0, 0, 0, 1, 1, 0, 1, 1, 0, 0,\n",
       "       1, 1, 0, 1, 0, 1, 1, 1, 1, 0, 0, 0, 1, 0, 0, 1, 1, 0, 1, 1, 0, 0, 0,\n",
       "       1, 1, 1, 1, 0, 0, 0, 0, 0, 0, 0, 1, 0, 1, 1, 0, 0, 0, 0, 0, 0, 1, 1,\n",
       "       1, 1, 1, 0, 0, 0, 0, 1, 1, 0, 0, 0, 1, 1, 0, 1, 0, 0, 0, 1, 0, 1, 1,\n",
       "       1, 0, 1, 1, 0, 0, 0, 0, 1, 1, 0, 0, 0, 0, 0, 0, 1, 0, 0, 0, 0, 1, 0,\n",
       "       1, 0, 1, 1, 0, 0, 0, 0, 0, 0, 0, 0, 1, 1, 0, 1, 1, 1, 1, 0, 0, 1, 0,\n",
       "       1, 0, 0, 1, 0, 0, 1, 1, 1, 1, 1, 1, 1, 0, 0, 0, 1, 0, 1, 0, 1, 1, 0,\n",
       "       1, 0, 0, 0, 0, 0, 0, 0, 0, 1, 0, 0, 1, 1, 0, 0, 0, 0, 0, 1, 0, 0, 0,\n",
       "       1, 1, 0, 1, 0, 0, 1, 0, 0, 0, 0, 0, 0, 1, 0, 0, 0, 0, 0, 0, 0, 1, 0,\n",
       "       1, 1, 0, 1, 1, 0, 1, 1, 0, 0, 1, 0, 1, 0, 1, 0, 0, 1, 0, 0, 1, 0, 0,\n",
       "       0, 1, 0, 0, 1, 0, 1, 0, 1, 0, 1, 1, 0, 0, 1, 0, 0, 1, 1, 0, 1, 1, 0,\n",
       "       0, 1, 1, 0, 1, 0, 1, 1, 0, 0, 0, 0, 0, 0, 0, 0, 0, 1, 1, 1, 1, 1, 0,\n",
       "       0, 1, 1, 0, 1, 1, 1, 0, 0, 0, 1, 0, 1, 0, 0, 0, 1, 0, 0, 0, 0, 1, 0,\n",
       "       0, 1, 1, 0, 0, 0, 1, 0, 0, 1, 1, 1, 0, 0, 1, 0, 0, 1, 0, 0, 1, 0, 0,\n",
       "       1, 1, 0, 0, 0, 0, 1, 0, 0, 1, 0, 1, 0, 0, 1, 0, 0, 0, 0, 0, 1, 0, 1,\n",
       "       1, 1, 0, 1, 0, 1, 0, 1, 0, 1, 0, 0, 0, 0, 0, 0, 1, 0, 0, 0, 1, 0, 0,\n",
       "       0, 0, 1, 1, 0, 0, 1, 0, 0, 0, 1, 0, 1, 0, 1, 0, 0, 0, 0, 0, 0, 0, 1,\n",
       "       1, 1, 1, 0, 0, 0, 0, 1, 0, 0, 1, 1, 0, 0, 0, 0, 1, 1, 1, 1, 1, 0, 1,\n",
       "       0, 0, 0, 1, 1, 0, 0, 1, 0, 0, 0, 1, 0, 1, 1, 0, 0, 1, 0, 0, 0, 0, 0,\n",
       "       0, 1, 0, 0, 1, 0, 1, 0, 1, 0, 0, 1, 0, 0, 1, 1, 0, 0, 1, 1, 0, 0, 0,\n",
       "       1, 0, 0, 1, 1, 0, 1, 0, 0, 0, 0, 0, 0, 0, 0, 1, 0, 0, 1, 0, 1, 1, 1,\n",
       "       0, 0, 0, 0, 1, 0, 1, 0, 0, 0, 0, 0, 0, 0, 1, 1, 0, 0, 0, 1, 1, 1, 1,\n",
       "       0, 0, 0, 0, 1, 0, 0, 0, 0, 0, 0, 0, 0, 0, 0, 1, 1, 0, 1, 0, 0, 0, 1,\n",
       "       1, 1, 1, 1, 0, 0, 0, 1, 0, 0, 1, 1, 0, 0, 1, 0, 0, 0, 0, 0, 0, 1, 0,\n",
       "       0, 0, 1, 0, 1, 1, 1, 1, 0, 0, 0, 1, 0, 0, 1, 1, 0, 0, 1, 0, 1, 0, 0,\n",
       "       1, 1, 0, 0, 0, 1, 1, 0, 0, 0, 0, 0, 0, 1, 0, 1, 0], dtype=int64)"
      ]
     },
     "execution_count": 7,
     "metadata": {},
     "output_type": "execute_result"
    }
   ],
   "source": [
    "# displaying labels ie data of survived\n",
    "y"
   ]
  },
  {
   "cell_type": "code",
   "execution_count": 8,
   "metadata": {
    "collapsed": true
   },
   "outputs": [],
   "source": [
    "# used of training and testing of machine\n",
    "from sklearn.model_selection import train_test_split"
   ]
  },
  {
   "cell_type": "code",
   "execution_count": 9,
   "metadata": {},
   "outputs": [
    {
     "name": "stdout",
     "output_type": "stream",
     "text": [
      "(623L, 10L) (623L,)\n"
     ]
    }
   ],
   "source": [
    "# training and testing\n",
    "X_train, X_test, Y_train, Y_test = train_test_split(x, y, test_size = 0.3, random_state = 0)\n",
    "print X_train.shape, Y_train.shape"
   ]
  },
  {
   "cell_type": "code",
   "execution_count": 10,
   "metadata": {
    "collapsed": true
   },
   "outputs": [],
   "source": [
    "# using logical regression model\n",
    "from sklearn.linear_model import LogisticRegression\n",
    "# to calculate accuracy\n",
    "from sklearn.metrics import accuracy_score"
   ]
  },
  {
   "cell_type": "code",
   "execution_count": 11,
   "metadata": {},
   "outputs": [
    {
     "name": "stdout",
     "output_type": "stream",
     "text": [
      "Maximum accuracy value = 81.34 percent \n",
      "At value of C = 0.07\n"
     ]
    }
   ],
   "source": [
    "# to achieve a array of float point numbers\n",
    "import numpy as np\n",
    "# list to store accuracy values\n",
    "l = []\n",
    "# list to store array of float point numbers\n",
    "d = []\n",
    "# converting array of float point numbers achieved by numpy to list\n",
    "d = np.arange(0.01,1.00,0.01).tolist()\n",
    "# loop top vary values of C\n",
    "for b in d:\n",
    "    # object of Logistic Regression\n",
    "    clf = LogisticRegression(C=b)\n",
    "    # fit operation\n",
    "    clf.fit(X_train, Y_train.ravel())\n",
    "    # prediction operation\n",
    "    y_pred_log_reg = clf.predict(X_test)\n",
    "    # calculating accuracy for each value of C\n",
    "    acc_log_reg = round (accuracy_score(y_pred_log_reg, Y_test) * 100, 2)\n",
    "    # appending accuracy to list\n",
    "    l.append(acc_log_reg)\n",
    "# calculating max accuracy\n",
    "m = max(l)\n",
    "print 'Maximum accuracy value = %s percent \\nAt value of C = %s' % (m, d[l.index(max(l))])"
   ]
  },
  {
   "cell_type": "code",
   "execution_count": 12,
   "metadata": {
    "collapsed": true
   },
   "outputs": [],
   "source": [
    "# using K-Nearest Neighbour model\n",
    "from sklearn.neighbors import KNeighborsClassifier"
   ]
  },
  {
   "cell_type": "code",
   "execution_count": 13,
   "metadata": {},
   "outputs": [
    {
     "name": "stdout",
     "output_type": "stream",
     "text": [
      "Accuracy by knn is: 75.75 percent\n",
      "at  value of k: 37\n"
     ]
    }
   ],
   "source": [
    "# list to hold accuracy values\n",
    "l1=[]\n",
    "# loop to vary value of K\n",
    "for a in range(1,100):\n",
    "    # object of KNN\n",
    "    clf = KNeighborsClassifier(n_neighbors = a)\n",
    "    # fitting operation\n",
    "    clf.fit(X_train, Y_train.ravel())\n",
    "    # prediction operation\n",
    "    y_pred_knn = clf.predict (X_test)\n",
    "    # calculating accuracy for each value of K\n",
    "    acc_knn = round (accuracy_score(y_pred_knn, Y_test)*100 , 2)\n",
    "    # appending accuracy to list\n",
    "    l1.append(acc_knn)\n",
    "# calculating maximum accuracy\n",
    "l1_max = max(l1)\n",
    "# calculation value of K giving maximum accuracy\n",
    "i = l1.index(max(l1))\n",
    "i += 1\n",
    "print \"Accuracy by knn is: \"+ str(l1_max)+' percent'\n",
    "print \"at  value of k: \"+ str(i)"
   ]
  },
  {
   "cell_type": "code",
   "execution_count": 14,
   "metadata": {
    "collapsed": true
   },
   "outputs": [],
   "source": [
    "# using Gaussian Naive Bayes classifier Model\n",
    "from sklearn.naive_bayes import GaussianNB"
   ]
  },
  {
   "cell_type": "code",
   "execution_count": 15,
   "metadata": {},
   "outputs": [
    {
     "name": "stdout",
     "output_type": "stream",
     "text": [
      "Accuracy by Gaussian Naive Bayes Model is: 78.36 percent\n"
     ]
    }
   ],
   "source": [
    "# object of Gaussian Naive Bayes Algorithm\n",
    "clf = GaussianNB()\n",
    "# fit operation\n",
    "clf.fit(X_train, Y_train.ravel())\n",
    "# prediction operation \n",
    "y_pred_gnb = clf.predict (X_test)\n",
    "# obtaining accuracy value\n",
    "acc_gnb = round(accuracy_score(y_pred_gnb, Y_test)*100, 2)\n",
    "print 'Accuracy by Gaussian Naive Bayes Model is: '+ str(acc_gnb)+' percent'"
   ]
  },
  {
   "cell_type": "code",
   "execution_count": 16,
   "metadata": {
    "collapsed": true
   },
   "outputs": [],
   "source": [
    "# using Decision tree classifier\n",
    "from sklearn.tree import DecisionTreeClassifier"
   ]
  },
  {
   "cell_type": "code",
   "execution_count": 17,
   "metadata": {},
   "outputs": [
    {
     "name": "stdout",
     "output_type": "stream",
     "text": [
      "Accuracy by Decision tree classifier Model with entropy criterion is: 82.46 percent\n"
     ]
    }
   ],
   "source": [
    "# creating object of decision tree model with gain information criterion\n",
    "clf = DecisionTreeClassifier(criterion = 'gini', random_state=0,max_depth=3, min_samples_leaf=5)\n",
    "# fit operation\n",
    "clf.fit(X_train, Y_train.ravel())\n",
    "# prediction operation\n",
    "y_pred_dt = clf.predict(X_test)\n",
    "# claculating accuracy\n",
    "acc_dt = round(accuracy_score(y_pred_dt, Y_test)*100, 2)\n",
    "print 'Accuracy by Decision tree classifier Model with entropy criterion is: '+ str(acc_dt)+' percent'"
   ]
  },
  {
   "cell_type": "code",
   "execution_count": 18,
   "metadata": {},
   "outputs": [
    {
     "name": "stdout",
     "output_type": "stream",
     "text": [
      "Accuracy by Decision tree classifier Model with entropy criterion is: 82.46 percent\n"
     ]
    }
   ],
   "source": [
    "# creating object of decision tree model with entropy criterion\n",
    "clf_entropy = DecisionTreeClassifier(criterion = \"entropy\", random_state =0, max_depth=3, min_samples_leaf=5)\n",
    "clf_entropy.fit(X_train, Y_train.ravel())\n",
    "y_pred_dten = clf_entropy.predict(X_test)\n",
    "acc_dten = round(accuracy_score(y_pred_dten, Y_test)*100, 2)\n",
    "print 'Accuracy by Decision tree classifier Model with entropy criterion is: '+ str(acc_dten)+' percent'"
   ]
  },
  {
   "cell_type": "code",
   "execution_count": 19,
   "metadata": {
    "collapsed": true
   },
   "outputs": [],
   "source": [
    "# for using random forest classifier\n",
    "from sklearn.ensemble import RandomForestClassifier"
   ]
  },
  {
   "cell_type": "code",
   "execution_count": 20,
   "metadata": {},
   "outputs": [
    {
     "name": "stdout",
     "output_type": "stream",
     "text": [
      "Accuracy by Random Forest classifier is: 82.46 percent\n"
     ]
    }
   ],
   "source": [
    "# creating object of random forest classifier\n",
    "clf = RandomForestClassifier(random_state=0)\n",
    "# fitting operation\n",
    "clf.fit(X_train, Y_train.ravel())\n",
    "# prediction operation\n",
    "y_pred_rf = clf.predict(X_test)\n",
    "# calculating accuracy\n",
    "acc_rf = round(accuracy_score(y_pred_dten, Y_test)*100, 2)\n",
    "print 'Accuracy by Random Forest classifier is: '+ str(acc_dt)+' percent'"
   ]
  },
  {
   "cell_type": "code",
   "execution_count": 21,
   "metadata": {},
   "outputs": [
    {
     "name": "stdout",
     "output_type": "stream",
     "text": [
      "Random Forest classifier gives more accurate result with accuracy of 82.46 percent\n",
      "\n",
      "By the accuracy difference of 1.12\n"
     ]
    }
   ],
   "source": [
    "# comparing accuracy value of logistic regression and random forest algorithm\n",
    "if acc_rf > m:\n",
    "    z = acc_rf - m\n",
    "    print 'Random Forest classifier gives more accurate result with accuracy of %s percent' % acc_rf\n",
    "    print '\\nBy the accuracy difference of %s' %z\n",
    "elif acc_rf < m:\n",
    "    z = m - acc_rf\n",
    "    print 'Logistic Regression classifier gives more accurate result with accuracy of %s percent' % m\n",
    "    print '\\nBy the accuracy difference of %s' %z\n",
    "else:\n",
    "    print 'Logistic Regression classifier and Random Forest classifier gives same accuracy of %s percent' % m"
   ]
  },
  {
   "cell_type": "code",
   "execution_count": 22,
   "metadata": {
    "collapsed": true
   },
   "outputs": [],
   "source": [
    "# dictionary to plot bar graph\n",
    "classifiers = {'Logistic Regression':m,\n",
    "              'K Nearest Neghbour':acc_knn,\n",
    "              'Gaussian Naive Bayes':acc_gnb,\n",
    "              'Decision Tree':acc_dten,\n",
    "              'Random Forest':acc_rf}"
   ]
  },
  {
   "cell_type": "code",
   "execution_count": 28,
   "metadata": {},
   "outputs": [
    {
     "name": "stdout",
     "output_type": "stream",
     "text": [
      "                  Model  Score\n",
      "0   Logistic Regression  81.34\n",
      "1                   KNN  69.03\n",
      "2  Gaussian Naive Bayes  78.36\n",
      "3         Decision Tree  82.46\n",
      "4         Random Forest  82.46\n"
     ]
    }
   ],
   "source": [
    "# dataframe containing different models used and their accuracy\n",
    "models = pd.DataFrame({\n",
    "    'Model': ['Logistic Regression', 'KNN' , 'Gaussian Naive Bayes','Decision Tree', 'Random Forest'],\n",
    "    'Score': [m, acc_knn, acc_gnb, acc_dten, acc_rf]\n",
    "})\n",
    "print models"
   ]
  },
  {
   "cell_type": "code",
   "execution_count": 29,
   "metadata": {},
   "outputs": [
    {
     "data": {
      "text/html": [
       "<div>\n",
       "<style>\n",
       "    .dataframe thead tr:only-child th {\n",
       "        text-align: right;\n",
       "    }\n",
       "\n",
       "    .dataframe thead th {\n",
       "        text-align: left;\n",
       "    }\n",
       "\n",
       "    .dataframe tbody tr th {\n",
       "        vertical-align: top;\n",
       "    }\n",
       "</style>\n",
       "<table border=\"1\" class=\"dataframe\">\n",
       "  <thead>\n",
       "    <tr style=\"text-align: right;\">\n",
       "      <th></th>\n",
       "      <th>Model</th>\n",
       "      <th>Score</th>\n",
       "    </tr>\n",
       "  </thead>\n",
       "  <tbody>\n",
       "    <tr>\n",
       "      <th>3</th>\n",
       "      <td>Decision Tree</td>\n",
       "      <td>82.46</td>\n",
       "    </tr>\n",
       "    <tr>\n",
       "      <th>4</th>\n",
       "      <td>Random Forest</td>\n",
       "      <td>82.46</td>\n",
       "    </tr>\n",
       "    <tr>\n",
       "      <th>0</th>\n",
       "      <td>Logistic Regression</td>\n",
       "      <td>81.34</td>\n",
       "    </tr>\n",
       "    <tr>\n",
       "      <th>2</th>\n",
       "      <td>Gaussian Naive Bayes</td>\n",
       "      <td>78.36</td>\n",
       "    </tr>\n",
       "    <tr>\n",
       "      <th>1</th>\n",
       "      <td>KNN</td>\n",
       "      <td>69.03</td>\n",
       "    </tr>\n",
       "  </tbody>\n",
       "</table>\n",
       "</div>"
      ],
      "text/plain": [
       "                  Model  Score\n",
       "3         Decision Tree  82.46\n",
       "4         Random Forest  82.46\n",
       "0   Logistic Regression  81.34\n",
       "2  Gaussian Naive Bayes  78.36\n",
       "1                   KNN  69.03"
      ]
     },
     "execution_count": 29,
     "metadata": {},
     "output_type": "execute_result"
    }
   ],
   "source": [
    "# sorting values\n",
    "models.sort_values(by='Score', ascending = False)"
   ]
  },
  {
   "cell_type": "code",
   "execution_count": 30,
   "metadata": {
    "collapsed": true
   },
   "outputs": [],
   "source": [
    "# ************************************************* DATA VISUALIZATION *************************************************\n",
    "# used for plotting graphs\n",
    "import matplotlib.pyplot as plt \n",
    "# used to display graphs in ipython notebook only\n",
    "%matplotlib inline\n",
    "# ease the task of coding with matplotlib\n",
    "import seaborn as sns\n",
    "# initialization of seaborn's object\n",
    "sns.set()"
   ]
  },
  {
   "cell_type": "code",
   "execution_count": 31,
   "metadata": {},
   "outputs": [
    {
     "data": {
      "image/png": "[encoded data removed]",
      "text/plain": [
       "<matplotlib.figure.Figure at 0xdd897f0>"
      ]
     },
     "metadata": {},
     "output_type": "display_data"
    }
   ],
   "source": [
    "# ********************** PLOT USING MATPLOTLIB *************************\n",
    "# plot bar graph for differnt classification algorithms and their accuracy score\n",
    "# set the layout of graph frame\n",
    "plt.figure(figsize=(10, 7))\n",
    "# set layout of bars\n",
    "plt.bar(range(len(classifiers)), classifiers.values(),align='center', width=0.7, color = 'g')\n",
    "# set labels at x axis\n",
    "plt.xticks(range(len(classifiers)), classifiers.keys())\n",
    "# gives name to x axis\n",
    "plt.xlabel('Classifier Algorithm')\n",
    "# gives name to y axis\n",
    "plt.ylabel('Accuracy')\n",
    "# gives title to the graph\n",
    "plt.title('Classifier Algorithms vs Accuracy Score')\n",
    "# prints the graph\n",
    "plt.show()"
   ]
  },
  {
   "cell_type": "code",
   "execution_count": 33,
   "metadata": {},
   "outputs": [
    {
     "data": {
      "text/plain": [
       "<matplotlib.axes._subplots.AxesSubplot at 0xdc015c0>"
      ]
     },
     "execution_count": 33,
     "metadata": {},
     "output_type": "execute_result"
    },
    {
     "data": {
      "image/png": "[encoded data removed]",
      "text/plain": [
       "<matplotlib.figure.Figure at 0xde27be0>"
      ]
     },
     "metadata": {},
     "output_type": "display_data"
    }
   ],
   "source": [
    "# ****************************** PLOT USING SEABORN ******************************\n",
    "# plot bar graph for models and accuracy score\n",
    "sns.barplot(x='Model',y='Score',data = models)"
   ]
  }
 ],
 "metadata": {
  "kernelspec": {
   "display_name": "Python 2",
   "language": "python",
   "name": "python2"
  },
  "language_info": {
   "codemirror_mode": {
    "name": "ipython",
    "version": 2
   },
   "file_extension": ".py",
   "mimetype": "text/x-python",
   "name": "python",
   "nbconvert_exporter": "python",
   "pygments_lexer": "ipython2",
   "version": "2.7.14"
  }
 },
 "nbformat": 4,
 "nbformat_minor": 2
}
